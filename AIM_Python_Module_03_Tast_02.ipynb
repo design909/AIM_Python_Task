{
 "cells": [
  {
   "cell_type": "markdown",
   "id": "040d0077-cc07-499d-bb47-8dcc002e57dc",
   "metadata": {},
   "source": [
    "# Task 2"
   ]
  },
  {
   "cell_type": "markdown",
   "id": "60b03636-85a7-4a62-8be0-f4350fd7441e",
   "metadata": {},
   "source": []
  },
  {
   "cell_type": "markdown",
   "id": "04840563-0435-4df3-b611-d32fef30ebb0",
   "metadata": {},
   "source": [
    "# a)\tCreate a list of numbers from 1 to 20. Use list comprehension to generate a new list containing numbers divisible by both 2 and 3."
   ]
  },
  {
   "cell_type": "code",
   "execution_count": 9,
   "id": "42d088d0-7273-42fb-879f-89923af04f57",
   "metadata": {
    "tags": []
   },
   "outputs": [
    {
     "name": "stdout",
     "output_type": "stream",
     "text": [
      "Combined pairs:\n",
      "(1, 'a')\n",
      "(2, 'b')\n",
      "(3, 'c')\n",
      "(4, 'd')\n",
      "(5, 'e')\n",
      "(6, 'f')\n",
      "(7, 'g')\n",
      "(8, 'h')\n",
      "(9, 'i')\n",
      "(10, 'j')\n"
     ]
    }
   ],
   "source": [
    "def combine_lists(list1, list2):\n",
    "    # Create an empty list to store the pairs\n",
    "    pairs = []\n",
    "    \n",
    "    # Use zip to combine the two lists and loop through the pairs\n",
    "    for item1, item2 in zip(list1, list2):\n",
    "        # Create a tuple pair and add it to our pairs list\n",
    "        pair = (item1, item2)\n",
    "        pairs.append(pair)\n",
    "    \n",
    "    return pairs\n",
    "\n",
    "\n",
    "numbers = [1, 2, 3, 4, 5, 6, 7, 8, 9, 10]\n",
    "letters = ['a', 'b', 'c', 'd', 'e', 'f', 'g', 'h', 'i', 'j']\n",
    "\n",
    "result = combine_lists(numbers, letters)\n",
    "print(\"Combined pairs:\")\n",
    "for pair in result:\n",
    "    print(pair)"
   ]
  },
  {
   "cell_type": "code",
   "execution_count": null,
   "id": "079bf321-a62a-42de-83b0-542d9e79f6a2",
   "metadata": {},
   "outputs": [],
   "source": []
  },
  {
   "cell_type": "markdown",
   "id": "e81a30a7-d9fd-4b70-96da-11f3a6759a61",
   "metadata": {},
   "source": [
    "# b)\tImplement a program that removes duplicates from a list while maintaining the order of elements."
   ]
  },
  {
   "cell_type": "code",
   "execution_count": 14,
   "id": "e1409b2b-23b8-4fc0-b77c-b60ac4ffdec3",
   "metadata": {
    "tags": []
   },
   "outputs": [
    {
     "name": "stdout",
     "output_type": "stream",
     "text": [
      "Original list: [1, 2, 3, 1, 2, 5, 6, 7, 3, 4, 8, 4, 4, 4, 5, 7, 7, 7, 4, 3, 4]\n",
      "List with duplicates removed: [1, 2, 3, 5, 6, 7, 4, 8]\n"
     ]
    }
   ],
   "source": [
    "def remove_duplicates(input_list):\n",
    "    # Create an empty list to store unique elements\n",
    "    unique_list = []\n",
    "    \n",
    "    # Iterate through each element in the input list\n",
    "    for item in input_list:\n",
    "        # Only add the item to our unique list if we haven't seen it before\n",
    "        if item not in unique_list:\n",
    "            unique_list.append(item)\n",
    "    \n",
    "    return unique_list\n",
    "\n",
    "# Example usage\n",
    "original_list = [1, 2, 3, 1, 2, 5, 6, 7, 3, 4, 8, 4, 4, 4, 5, 7, 7, 7, 4, 3, 4,]\n",
    "result = remove_duplicates(original_list)\n",
    "\n",
    "print(\"Original list:\", original_list)\n",
    "print(\"List with duplicates removed:\", result)"
   ]
  },
  {
   "cell_type": "code",
   "execution_count": null,
   "id": "845fc3fe-6c3c-4378-82ed-f343d4aa2c5b",
   "metadata": {},
   "outputs": [],
   "source": []
  }
 ],
 "metadata": {
  "kernelspec": {
   "display_name": "Python 3 (ipykernel)",
   "language": "python",
   "name": "python3"
  },
  "language_info": {
   "codemirror_mode": {
    "name": "ipython",
    "version": 3
   },
   "file_extension": ".py",
   "mimetype": "text/x-python",
   "name": "python",
   "nbconvert_exporter": "python",
   "pygments_lexer": "ipython3",
   "version": "3.11.7"
  }
 },
 "nbformat": 4,
 "nbformat_minor": 5
}
