{
 "cells": [
  {
   "cell_type": "markdown",
   "id": "4adec70b-3854-4c60-a04e-0cf8e624b462",
   "metadata": {},
   "source": [
    "# Task 1"
   ]
  },
  {
   "cell_type": "code",
   "execution_count": null,
   "id": "76816e27-77c6-4c1b-979f-bb78a3f13d62",
   "metadata": {},
   "outputs": [],
   "source": []
  },
  {
   "cell_type": "markdown",
   "id": "bdaae685-5aac-4633-93f9-3cf905bc409b",
   "metadata": {},
   "source": [
    "# a)\tWrite a Python program to find the factorial of a number using a while loop"
   ]
  },
  {
   "cell_type": "code",
   "execution_count": 6,
   "id": "5b64a89e-9c77-41f7-8aef-c4f898ff85f6",
   "metadata": {
    "tags": []
   },
   "outputs": [
    {
     "name": "stdin",
     "output_type": "stream",
     "text": [
      "Enter a number to find its factorial:  10\n"
     ]
    },
    {
     "name": "stdout",
     "output_type": "stream",
     "text": [
      "The factorial of 10 is 3628800\n"
     ]
    }
   ],
   "source": [
    "def factorial(n):\n",
    "    # Check if input is negative (factorial is not defined for negative numbers)\n",
    "    if n < 0:\n",
    "        return \"Factorial is not defined for negative numbers\"\n",
    "    \n",
    "    # Initialize the result to 1 (factorial of 0 is 1)\n",
    "    result = 1\n",
    "    \n",
    "    # Initialize a counter for our while loop\n",
    "    counter = 1\n",
    "    \n",
    "    # Keep multiplying until we reach n\n",
    "    while counter <= n:\n",
    "        result = result * counter  # Multiply our result by the current counter\n",
    "        counter = counter + 1      # Increment the counter\n",
    "    \n",
    "    return result\n",
    "\n",
    "number = int(input(\"Enter a number to find its factorial: \"))\n",
    "print(f\"The factorial of {number} is {factorial(number)}\")"
   ]
  },
  {
   "cell_type": "code",
   "execution_count": null,
   "id": "520ed564-4c8c-46fa-bce4-a698ca81ed10",
   "metadata": {},
   "outputs": [],
   "source": []
  },
  {
   "cell_type": "markdown",
   "id": "c18310f2-f60c-456b-bfd0-9d72a077ca36",
   "metadata": {},
   "source": [
    "# b)\tWrite a program that prints a right-angled triangle pattern using nested loops."
   ]
  },
  {
   "cell_type": "code",
   "execution_count": 13,
   "id": "7b34aca8-4c7f-49f8-a9f0-ac42047fafc5",
   "metadata": {
    "tags": []
   },
   "outputs": [
    {
     "name": "stdout",
     "output_type": "stream",
     "text": [
      "Right-angled triangle with height 10:\n",
      "*\n",
      "**\n",
      "***\n",
      "****\n",
      "*****\n",
      "******\n",
      "*******\n",
      "********\n",
      "*********\n",
      "**********\n"
     ]
    }
   ],
   "source": [
    "def print_right_triangle(height):\n",
    "    # Loop through each row\n",
    "    for row in range(1, height + 1):\n",
    "        # For each row, print the right number of stars\n",
    "        for col in range(1, row + 1):\n",
    "            print(\"*\", end=\"\")\n",
    "        # After printing all stars in a row, move to the next line\n",
    "        print()\n",
    "\n",
    "triangle_height = 10\n",
    "print(f\"Right-angled triangle with height {triangle_height}:\")\n",
    "print_right_triangle(triangle_height)"
   ]
  },
  {
   "cell_type": "code",
   "execution_count": null,
   "id": "86af81e2-d3a4-46be-8311-fdfc2bf025f9",
   "metadata": {},
   "outputs": [],
   "source": []
  },
  {
   "cell_type": "markdown",
   "id": "11db8a4c-2259-4f7d-8de2-06d4248e9c7e",
   "metadata": {},
   "source": [
    "# c)\tWrite a Python program that takes a sentence and returns the number of words in it using split"
   ]
  },
  {
   "cell_type": "code",
   "execution_count": 38,
   "id": "3c3f241d-f68e-491a-9c66-4bb73558cd65",
   "metadata": {
    "tags": []
   },
   "outputs": [
    {
     "name": "stdin",
     "output_type": "stream",
     "text": [
      "Enter a sentence:  Write a Python program that takes a sentence and returns the number of words in it using split\n"
     ]
    },
    {
     "name": "stdout",
     "output_type": "stream",
     "text": [
      "The sentence contains 18 words.\n"
     ]
    }
   ],
   "source": [
    "def count_words(sentence):\n",
    "    # Split the sentence into a list of words\n",
    "    words = sentence.split()\n",
    "    \n",
    "    # Return the length of the list, which is the number of words\n",
    "    return len(words)\n",
    "\n",
    "# Example usage\n",
    "user_sentence = input(\"Enter a sentence: \")\n",
    "word_count = count_words(user_sentence)\n",
    "print(f\"The sentence contains {word_count} words.\")"
   ]
  },
  {
   "cell_type": "code",
   "execution_count": null,
   "id": "2623ef1b-6f72-48fa-a211-c39f1f0e8f98",
   "metadata": {},
   "outputs": [],
   "source": []
  },
  {
   "cell_type": "markdown",
   "id": "10287b43-8e2e-4866-8001-58d5c9174c4d",
   "metadata": {},
   "source": [
    "# d)\tUse a for loop and zip to combine two lists [1, 2, 3] and [‘a’, ‘b’, ‘c’] into pairs like (1, 'a')."
   ]
  },
  {
   "cell_type": "code",
   "execution_count": 29,
   "id": "6d82eb90-4ff4-4a97-b3e7-579561b705f7",
   "metadata": {
    "tags": []
   },
   "outputs": [
    {
     "name": "stdout",
     "output_type": "stream",
     "text": [
      "Combined pairs:\n",
      "(1, 'a')\n",
      "(2, 'b')\n",
      "(3, 'c')\n",
      "(4, 'd')\n",
      "(5, 'e')\n",
      "(6, 'f')\n",
      "(7, 'g')\n",
      "(8, 'h')\n",
      "(9, 'i')\n",
      "(10, 'j')\n"
     ]
    }
   ],
   "source": [
    "def combine_lists(list1, list2):\n",
    "    # Create an empty list to store the pairs\n",
    "    pairs = []\n",
    "    \n",
    "    # Use zip to combine the two lists and loop through the pairs\n",
    "    for item1, item2 in zip(list1, list2):\n",
    "        # Create a tuple pair and add it to our pairs list\n",
    "        pair = (item1, item2)\n",
    "        pairs.append(pair)\n",
    "    \n",
    "    return pairs\n",
    "\n",
    "numbers = [1, 2, 3, 4, 5, 6, 7, 8, 9, 10]\n",
    "letters = ['a', 'b', 'c', 'd', 'e', 'f', 'g', 'h', 'i', 'j']\n",
    "\n",
    "result = combine_lists(numbers, letters)\n",
    "print(\"Combined pairs:\")\n",
    "for pair in result:\n",
    "    print(pair)"
   ]
  },
  {
   "cell_type": "code",
   "execution_count": null,
   "id": "46bbd358-1c48-476f-b950-f47b4e7a4429",
   "metadata": {},
   "outputs": [],
   "source": []
  }
 ],
 "metadata": {
  "kernelspec": {
   "display_name": "Python 3 (ipykernel)",
   "language": "python",
   "name": "python3"
  },
  "language_info": {
   "codemirror_mode": {
    "name": "ipython",
    "version": 3
   },
   "file_extension": ".py",
   "mimetype": "text/x-python",
   "name": "python",
   "nbconvert_exporter": "python",
   "pygments_lexer": "ipython3",
   "version": "3.11.7"
  }
 },
 "nbformat": 4,
 "nbformat_minor": 5
}
